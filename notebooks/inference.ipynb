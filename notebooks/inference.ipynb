{
 "cells": [
  {
   "cell_type": "code",
   "execution_count": null,
   "metadata": {},
   "outputs": [
    {
     "name": "stderr",
     "output_type": "stream",
     "text": [
      "WARNING: Logging before flag parsing goes to stderr.\n",
      "W0111 04:00:51.962768 4473927104 deprecation_wrapper.py:119] From /usr/local/lib/python3.7/site-packages/baselines/common/tf_util.py:53: The name tf.get_default_session is deprecated. Please use tf.compat.v1.get_default_session instead.\n",
      "\n",
      "W0111 04:00:51.965679 4473927104 deprecation_wrapper.py:119] From /usr/local/lib/python3.7/site-packages/baselines/common/tf_util.py:63: The name tf.ConfigProto is deprecated. Please use tf.compat.v1.ConfigProto instead.\n",
      "\n",
      "W0111 04:00:51.968367 4473927104 deprecation_wrapper.py:119] From /usr/local/lib/python3.7/site-packages/baselines/common/tf_util.py:70: The name tf.InteractiveSession is deprecated. Please use tf.compat.v1.InteractiveSession instead.\n",
      "\n",
      "W0111 04:00:51.976925 4473927104 deprecation_wrapper.py:119] From /usr/local/lib/python3.7/site-packages/baselines/common/misc_util.py:58: The name tf.set_random_seed is deprecated. Please use tf.compat.v1.set_random_seed instead.\n",
      "\n",
      "W0111 04:00:51.986232 4473927104 deprecation_wrapper.py:119] From /usr/local/lib/python3.7/site-packages/baselines/deepq/deepq.py:205: The name tf.train.AdamOptimizer is deprecated. Please use tf.compat.v1.train.AdamOptimizer instead.\n",
      "\n",
      "W0111 04:00:51.987407 4473927104 deprecation_wrapper.py:119] From /usr/local/lib/python3.7/site-packages/baselines/deepq/build_graph.py:176: The name tf.variable_scope is deprecated. Please use tf.compat.v1.variable_scope instead.\n",
      "\n",
      "W0111 04:00:51.995802 4473927104 deprecation.py:323] From /usr/local/lib/python3.7/site-packages/baselines/common/input.py:57: to_float (from tensorflow.python.ops.math_ops) is deprecated and will be removed in a future version.\n",
      "Instructions for updating:\n",
      "Use `tf.cast` instead.\n",
      "W0111 04:00:52.011497 4473927104 deprecation.py:323] From /usr/local/lib/python3.7/site-packages/baselines/common/models.py:94: flatten (from tensorflow.python.layers.core) is deprecated and will be removed in a future version.\n",
      "Instructions for updating:\n",
      "Use keras.layers.flatten instead.\n",
      "W0111 04:00:52.854516 4473927104 deprecation.py:323] From /usr/local/lib/python3.7/site-packages/baselines/deepq/build_graph.py:189: add_dispatch_support.<locals>.wrapper (from tensorflow.python.ops.array_ops) is deprecated and will be removed in a future version.\n",
      "Instructions for updating:\n",
      "Use tf.where in 2.0, which has the same broadcast rule as np.where\n"
     ]
    },
    {
     "name": "stdout",
     "output_type": "stream",
     "text": [
      "Logging to /var/folders/4d/_5zgf5gj23l8y2l0rp1y8yy80000gn/T/openai-2020-01-11-04-00-53-798242\n",
      "Loaded model from ../models/pocky_train0.pkl\n",
      "Episode reward 35.50000185519457\n",
      "Episode reward -1.0\n",
      "Episode reward 13.950000662356615\n",
      "Episode reward -3.0\n",
      "Episode reward 4.800000295042992\n",
      "Episode reward 13.150000784546137\n",
      "Episode reward -2.0\n",
      "Episode reward -6.0\n",
      "Episode reward 8.65000044927001\n",
      "Episode reward -7.0\n",
      "Episode reward -1.3499999716877937\n",
      "Episode reward -7.0\n",
      "Episode reward -6.0\n",
      "Episode reward 49.95000260323286\n",
      "Episode reward -1.0\n",
      "Episode reward -6.0\n",
      "Episode reward 11.250000569969416\n",
      "Episode reward -2.0\n",
      "Episode reward 28.10000141710043\n",
      "Episode reward -1.0\n",
      "Episode reward 15.150000747293234\n",
      "Episode reward -7.0\n",
      "Episode reward 5.3000003062188625\n",
      "Episode reward -1.0\n"
     ]
    }
   ],
   "source": [
    "import gym\n",
    "\n",
    "from baselines import deepq\n",
    "from gym_unity.envs import UnityEnv\n",
    "\n",
    "\n",
    "def main():\n",
    "    env = UnityEnv(\"../envs/pocky_inference\", 10, use_visual=False)\n",
    "    act = deepq.learn(env, network='mlp', total_timesteps=10, load_path=\"../models/pocky_train0.pkl\")\n",
    "\n",
    "    while True:\n",
    "        obs, done = env.reset(), False\n",
    "        episode_rew = 0\n",
    "        while not done:\n",
    "            \n",
    "            # この部分を実物に変える\n",
    "            env.render()\n",
    "            obs, rew, done, _ = env.step(act(obs[None])[0])\n",
    "            episode_rew += rew\n",
    "        print(\"Episode reward\", episode_rew)\n",
    "\n",
    "\n",
    "if __name__ == '__main__':\n",
    "    main()"
   ]
  },
  {
   "cell_type": "code",
   "execution_count": null,
   "metadata": {},
   "outputs": [],
   "source": []
  }
 ],
 "metadata": {
  "kernelspec": {
   "display_name": "Python 3",
   "language": "python",
   "name": "python3"
  },
  "language_info": {
   "codemirror_mode": {
    "name": "ipython",
    "version": 3
   },
   "file_extension": ".py",
   "mimetype": "text/x-python",
   "name": "python",
   "nbconvert_exporter": "python",
   "pygments_lexer": "ipython3",
   "version": "3.7.4"
  }
 },
 "nbformat": 4,
 "nbformat_minor": 4
}
